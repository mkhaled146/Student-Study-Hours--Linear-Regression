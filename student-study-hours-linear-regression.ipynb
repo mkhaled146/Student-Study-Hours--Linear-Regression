{
 "cells": [
  {
   "cell_type": "code",
   "execution_count": 1,
   "id": "cb35f1b5",
   "metadata": {
    "_cell_guid": "b1076dfc-b9ad-4769-8c92-a6c4dae69d19",
    "_uuid": "8f2839f25d086af736a60e9eeb907d3b93b6e0e5",
    "execution": {
     "iopub.execute_input": "2023-03-04T11:21:36.437674Z",
     "iopub.status.busy": "2023-03-04T11:21:36.437184Z",
     "iopub.status.idle": "2023-03-04T11:21:39.579594Z",
     "shell.execute_reply": "2023-03-04T11:21:39.578246Z"
    },
    "papermill": {
     "duration": 3.156272,
     "end_time": "2023-03-04T11:21:39.582959",
     "exception": false,
     "start_time": "2023-03-04T11:21:36.426687",
     "status": "completed"
    },
    "tags": []
   },
   "outputs": [],
   "source": [
    "import numpy as np \n",
    "import pandas as pd \n",
    "import matplotlib.pyplot as plt \n",
    "import seaborn as sns \n",
    "import plotly.express as px"
   ]
  },
  {
   "cell_type": "code",
   "execution_count": 2,
   "id": "d3c514a2",
   "metadata": {
    "execution": {
     "iopub.execute_input": "2023-03-04T11:21:39.599896Z",
     "iopub.status.busy": "2023-03-04T11:21:39.599459Z",
     "iopub.status.idle": "2023-03-04T11:21:39.648846Z",
     "shell.execute_reply": "2023-03-04T11:21:39.647707Z"
    },
    "papermill": {
     "duration": 0.061071,
     "end_time": "2023-03-04T11:21:39.651787",
     "exception": false,
     "start_time": "2023-03-04T11:21:39.590716",
     "status": "completed"
    },
    "tags": []
   },
   "outputs": [],
   "source": [
    "df = pd.read_csv('../input/student-study-hours/score.csv')"
   ]
  },
  {
   "cell_type": "code",
   "execution_count": 3,
   "id": "20b0b367",
   "metadata": {
    "execution": {
     "iopub.execute_input": "2023-03-04T11:21:39.670189Z",
     "iopub.status.busy": "2023-03-04T11:21:39.668658Z",
     "iopub.status.idle": "2023-03-04T11:21:39.704872Z",
     "shell.execute_reply": "2023-03-04T11:21:39.703271Z"
    },
    "papermill": {
     "duration": 0.048745,
     "end_time": "2023-03-04T11:21:39.707952",
     "exception": false,
     "start_time": "2023-03-04T11:21:39.659207",
     "status": "completed"
    },
    "tags": []
   },
   "outputs": [
    {
     "data": {
      "text/html": [
       "<div>\n",
       "<style scoped>\n",
       "    .dataframe tbody tr th:only-of-type {\n",
       "        vertical-align: middle;\n",
       "    }\n",
       "\n",
       "    .dataframe tbody tr th {\n",
       "        vertical-align: top;\n",
       "    }\n",
       "\n",
       "    .dataframe thead th {\n",
       "        text-align: right;\n",
       "    }\n",
       "</style>\n",
       "<table border=\"1\" class=\"dataframe\">\n",
       "  <thead>\n",
       "    <tr style=\"text-align: right;\">\n",
       "      <th></th>\n",
       "      <th>Hours</th>\n",
       "      <th>Scores</th>\n",
       "    </tr>\n",
       "  </thead>\n",
       "  <tbody>\n",
       "    <tr>\n",
       "      <th>0</th>\n",
       "      <td>2.5</td>\n",
       "      <td>21</td>\n",
       "    </tr>\n",
       "    <tr>\n",
       "      <th>1</th>\n",
       "      <td>5.1</td>\n",
       "      <td>47</td>\n",
       "    </tr>\n",
       "    <tr>\n",
       "      <th>2</th>\n",
       "      <td>3.2</td>\n",
       "      <td>27</td>\n",
       "    </tr>\n",
       "    <tr>\n",
       "      <th>3</th>\n",
       "      <td>8.5</td>\n",
       "      <td>75</td>\n",
       "    </tr>\n",
       "    <tr>\n",
       "      <th>4</th>\n",
       "      <td>3.5</td>\n",
       "      <td>30</td>\n",
       "    </tr>\n",
       "  </tbody>\n",
       "</table>\n",
       "</div>"
      ],
      "text/plain": [
       "   Hours  Scores\n",
       "0    2.5      21\n",
       "1    5.1      47\n",
       "2    3.2      27\n",
       "3    8.5      75\n",
       "4    3.5      30"
      ]
     },
     "execution_count": 3,
     "metadata": {},
     "output_type": "execute_result"
    }
   ],
   "source": [
    "df.head()"
   ]
  },
  {
   "cell_type": "code",
   "execution_count": 4,
   "id": "2c7fe874",
   "metadata": {
    "execution": {
     "iopub.execute_input": "2023-03-04T11:21:39.727090Z",
     "iopub.status.busy": "2023-03-04T11:21:39.726263Z",
     "iopub.status.idle": "2023-03-04T11:21:39.752366Z",
     "shell.execute_reply": "2023-03-04T11:21:39.750906Z"
    },
    "papermill": {
     "duration": 0.039011,
     "end_time": "2023-03-04T11:21:39.755157",
     "exception": false,
     "start_time": "2023-03-04T11:21:39.716146",
     "status": "completed"
    },
    "tags": []
   },
   "outputs": [
    {
     "name": "stdout",
     "output_type": "stream",
     "text": [
      "<class 'pandas.core.frame.DataFrame'>\n",
      "RangeIndex: 25 entries, 0 to 24\n",
      "Data columns (total 2 columns):\n",
      " #   Column  Non-Null Count  Dtype  \n",
      "---  ------  --------------  -----  \n",
      " 0   Hours   25 non-null     float64\n",
      " 1   Scores  25 non-null     int64  \n",
      "dtypes: float64(1), int64(1)\n",
      "memory usage: 528.0 bytes\n"
     ]
    }
   ],
   "source": [
    "df.info()"
   ]
  },
  {
   "cell_type": "code",
   "execution_count": 5,
   "id": "8461e791",
   "metadata": {
    "execution": {
     "iopub.execute_input": "2023-03-04T11:21:39.772762Z",
     "iopub.status.busy": "2023-03-04T11:21:39.771706Z",
     "iopub.status.idle": "2023-03-04T11:21:41.736172Z",
     "shell.execute_reply": "2023-03-04T11:21:41.734767Z"
    },
    "papermill": {
     "duration": 1.976198,
     "end_time": "2023-03-04T11:21:41.738899",
     "exception": false,
     "start_time": "2023-03-04T11:21:39.762701",
     "status": "completed"
    },
    "tags": []
   },
   "outputs": [
    {
     "data": {
      "text/html": [
       "        <script type=\"text/javascript\">\n",
       "        window.PlotlyConfig = {MathJaxConfig: 'local'};\n",
       "        if (window.MathJax && window.MathJax.Hub && window.MathJax.Hub.Config) {window.MathJax.Hub.Config({SVG: {font: \"STIX-Web\"}});}\n",
       "        if (typeof require !== 'undefined') {\n",
       "        require.undef(\"plotly\");\n",
       "        requirejs.config({\n",
       "            paths: {\n",
       "                'plotly': ['https://cdn.plot.ly/plotly-2.18.0.min']\n",
       "            }\n",
       "        });\n",
       "        require(['plotly'], function(Plotly) {\n",
       "            window._Plotly = Plotly;\n",
       "        });\n",
       "        }\n",
       "        </script>\n",
       "        "
      ]
     },
     "metadata": {},
     "output_type": "display_data"
    },
    {
     "data": {
      "text/html": [
       "<div>                            <div id=\"a50ee2e3-9db3-498c-afd1-faffac5b46ba\" class=\"plotly-graph-div\" style=\"height:525px; width:100%;\"></div>            <script type=\"text/javascript\">                require([\"plotly\"], function(Plotly) {                    window.PLOTLYENV=window.PLOTLYENV || {};                                    if (document.getElementById(\"a50ee2e3-9db3-498c-afd1-faffac5b46ba\")) {                    Plotly.newPlot(                        \"a50ee2e3-9db3-498c-afd1-faffac5b46ba\",                        [{\"hovertemplate\":\"x=%{x}<br>index=%{y}<extra></extra>\",\"legendgroup\":\"\",\"marker\":{\"color\":\"#636efa\",\"symbol\":\"circle\"},\"mode\":\"markers\",\"name\":\"\",\"orientation\":\"h\",\"showlegend\":false,\"x\":[21,47,27,75,30,20,88,60,81,25,85,62,41,42,17,95,30,24,67,69,30,54,35,76,86],\"xaxis\":\"x\",\"y\":[0,1,2,3,4,5,6,7,8,9,10,11,12,13,14,15,16,17,18,19,20,21,22,23,24],\"yaxis\":\"y\",\"type\":\"scatter\"}],                        {\"template\":{\"data\":{\"histogram2dcontour\":[{\"type\":\"histogram2dcontour\",\"colorbar\":{\"outlinewidth\":0,\"ticks\":\"\"},\"colorscale\":[[0.0,\"#0d0887\"],[0.1111111111111111,\"#46039f\"],[0.2222222222222222,\"#7201a8\"],[0.3333333333333333,\"#9c179e\"],[0.4444444444444444,\"#bd3786\"],[0.5555555555555556,\"#d8576b\"],[0.6666666666666666,\"#ed7953\"],[0.7777777777777778,\"#fb9f3a\"],[0.8888888888888888,\"#fdca26\"],[1.0,\"#f0f921\"]]}],\"choropleth\":[{\"type\":\"choropleth\",\"colorbar\":{\"outlinewidth\":0,\"ticks\":\"\"}}],\"histogram2d\":[{\"type\":\"histogram2d\",\"colorbar\":{\"outlinewidth\":0,\"ticks\":\"\"},\"colorscale\":[[0.0,\"#0d0887\"],[0.1111111111111111,\"#46039f\"],[0.2222222222222222,\"#7201a8\"],[0.3333333333333333,\"#9c179e\"],[0.4444444444444444,\"#bd3786\"],[0.5555555555555556,\"#d8576b\"],[0.6666666666666666,\"#ed7953\"],[0.7777777777777778,\"#fb9f3a\"],[0.8888888888888888,\"#fdca26\"],[1.0,\"#f0f921\"]]}],\"heatmap\":[{\"type\":\"heatmap\",\"colorbar\":{\"outlinewidth\":0,\"ticks\":\"\"},\"colorscale\":[[0.0,\"#0d0887\"],[0.1111111111111111,\"#46039f\"],[0.2222222222222222,\"#7201a8\"],[0.3333333333333333,\"#9c179e\"],[0.4444444444444444,\"#bd3786\"],[0.5555555555555556,\"#d8576b\"],[0.6666666666666666,\"#ed7953\"],[0.7777777777777778,\"#fb9f3a\"],[0.8888888888888888,\"#fdca26\"],[1.0,\"#f0f921\"]]}],\"heatmapgl\":[{\"type\":\"heatmapgl\",\"colorbar\":{\"outlinewidth\":0,\"ticks\":\"\"},\"colorscale\":[[0.0,\"#0d0887\"],[0.1111111111111111,\"#46039f\"],[0.2222222222222222,\"#7201a8\"],[0.3333333333333333,\"#9c179e\"],[0.4444444444444444,\"#bd3786\"],[0.5555555555555556,\"#d8576b\"],[0.6666666666666666,\"#ed7953\"],[0.7777777777777778,\"#fb9f3a\"],[0.8888888888888888,\"#fdca26\"],[1.0,\"#f0f921\"]]}],\"contourcarpet\":[{\"type\":\"contourcarpet\",\"colorbar\":{\"outlinewidth\":0,\"ticks\":\"\"}}],\"contour\":[{\"type\":\"contour\",\"colorbar\":{\"outlinewidth\":0,\"ticks\":\"\"},\"colorscale\":[[0.0,\"#0d0887\"],[0.1111111111111111,\"#46039f\"],[0.2222222222222222,\"#7201a8\"],[0.3333333333333333,\"#9c179e\"],[0.4444444444444444,\"#bd3786\"],[0.5555555555555556,\"#d8576b\"],[0.6666666666666666,\"#ed7953\"],[0.7777777777777778,\"#fb9f3a\"],[0.8888888888888888,\"#fdca26\"],[1.0,\"#f0f921\"]]}],\"surface\":[{\"type\":\"surface\",\"colorbar\":{\"outlinewidth\":0,\"ticks\":\"\"},\"colorscale\":[[0.0,\"#0d0887\"],[0.1111111111111111,\"#46039f\"],[0.2222222222222222,\"#7201a8\"],[0.3333333333333333,\"#9c179e\"],[0.4444444444444444,\"#bd3786\"],[0.5555555555555556,\"#d8576b\"],[0.6666666666666666,\"#ed7953\"],[0.7777777777777778,\"#fb9f3a\"],[0.8888888888888888,\"#fdca26\"],[1.0,\"#f0f921\"]]}],\"mesh3d\":[{\"type\":\"mesh3d\",\"colorbar\":{\"outlinewidth\":0,\"ticks\":\"\"}}],\"scatter\":[{\"fillpattern\":{\"fillmode\":\"overlay\",\"size\":10,\"solidity\":0.2},\"type\":\"scatter\"}],\"parcoords\":[{\"type\":\"parcoords\",\"line\":{\"colorbar\":{\"outlinewidth\":0,\"ticks\":\"\"}}}],\"scatterpolargl\":[{\"type\":\"scatterpolargl\",\"marker\":{\"colorbar\":{\"outlinewidth\":0,\"ticks\":\"\"}}}],\"bar\":[{\"error_x\":{\"color\":\"#2a3f5f\"},\"error_y\":{\"color\":\"#2a3f5f\"},\"marker\":{\"line\":{\"color\":\"#E5ECF6\",\"width\":0.5},\"pattern\":{\"fillmode\":\"overlay\",\"size\":10,\"solidity\":0.2}},\"type\":\"bar\"}],\"scattergeo\":[{\"type\":\"scattergeo\",\"marker\":{\"colorbar\":{\"outlinewidth\":0,\"ticks\":\"\"}}}],\"scatterpolar\":[{\"type\":\"scatterpolar\",\"marker\":{\"colorbar\":{\"outlinewidth\":0,\"ticks\":\"\"}}}],\"histogram\":[{\"marker\":{\"pattern\":{\"fillmode\":\"overlay\",\"size\":10,\"solidity\":0.2}},\"type\":\"histogram\"}],\"scattergl\":[{\"type\":\"scattergl\",\"marker\":{\"colorbar\":{\"outlinewidth\":0,\"ticks\":\"\"}}}],\"scatter3d\":[{\"type\":\"scatter3d\",\"line\":{\"colorbar\":{\"outlinewidth\":0,\"ticks\":\"\"}},\"marker\":{\"colorbar\":{\"outlinewidth\":0,\"ticks\":\"\"}}}],\"scattermapbox\":[{\"type\":\"scattermapbox\",\"marker\":{\"colorbar\":{\"outlinewidth\":0,\"ticks\":\"\"}}}],\"scatterternary\":[{\"type\":\"scatterternary\",\"marker\":{\"colorbar\":{\"outlinewidth\":0,\"ticks\":\"\"}}}],\"scattercarpet\":[{\"type\":\"scattercarpet\",\"marker\":{\"colorbar\":{\"outlinewidth\":0,\"ticks\":\"\"}}}],\"carpet\":[{\"aaxis\":{\"endlinecolor\":\"#2a3f5f\",\"gridcolor\":\"white\",\"linecolor\":\"white\",\"minorgridcolor\":\"white\",\"startlinecolor\":\"#2a3f5f\"},\"baxis\":{\"endlinecolor\":\"#2a3f5f\",\"gridcolor\":\"white\",\"linecolor\":\"white\",\"minorgridcolor\":\"white\",\"startlinecolor\":\"#2a3f5f\"},\"type\":\"carpet\"}],\"table\":[{\"cells\":{\"fill\":{\"color\":\"#EBF0F8\"},\"line\":{\"color\":\"white\"}},\"header\":{\"fill\":{\"color\":\"#C8D4E3\"},\"line\":{\"color\":\"white\"}},\"type\":\"table\"}],\"barpolar\":[{\"marker\":{\"line\":{\"color\":\"#E5ECF6\",\"width\":0.5},\"pattern\":{\"fillmode\":\"overlay\",\"size\":10,\"solidity\":0.2}},\"type\":\"barpolar\"}],\"pie\":[{\"automargin\":true,\"type\":\"pie\"}]},\"layout\":{\"autotypenumbers\":\"strict\",\"colorway\":[\"#636efa\",\"#EF553B\",\"#00cc96\",\"#ab63fa\",\"#FFA15A\",\"#19d3f3\",\"#FF6692\",\"#B6E880\",\"#FF97FF\",\"#FECB52\"],\"font\":{\"color\":\"#2a3f5f\"},\"hovermode\":\"closest\",\"hoverlabel\":{\"align\":\"left\"},\"paper_bgcolor\":\"white\",\"plot_bgcolor\":\"#E5ECF6\",\"polar\":{\"bgcolor\":\"#E5ECF6\",\"angularaxis\":{\"gridcolor\":\"white\",\"linecolor\":\"white\",\"ticks\":\"\"},\"radialaxis\":{\"gridcolor\":\"white\",\"linecolor\":\"white\",\"ticks\":\"\"}},\"ternary\":{\"bgcolor\":\"#E5ECF6\",\"aaxis\":{\"gridcolor\":\"white\",\"linecolor\":\"white\",\"ticks\":\"\"},\"baxis\":{\"gridcolor\":\"white\",\"linecolor\":\"white\",\"ticks\":\"\"},\"caxis\":{\"gridcolor\":\"white\",\"linecolor\":\"white\",\"ticks\":\"\"}},\"coloraxis\":{\"colorbar\":{\"outlinewidth\":0,\"ticks\":\"\"}},\"colorscale\":{\"sequential\":[[0.0,\"#0d0887\"],[0.1111111111111111,\"#46039f\"],[0.2222222222222222,\"#7201a8\"],[0.3333333333333333,\"#9c179e\"],[0.4444444444444444,\"#bd3786\"],[0.5555555555555556,\"#d8576b\"],[0.6666666666666666,\"#ed7953\"],[0.7777777777777778,\"#fb9f3a\"],[0.8888888888888888,\"#fdca26\"],[1.0,\"#f0f921\"]],\"sequentialminus\":[[0.0,\"#0d0887\"],[0.1111111111111111,\"#46039f\"],[0.2222222222222222,\"#7201a8\"],[0.3333333333333333,\"#9c179e\"],[0.4444444444444444,\"#bd3786\"],[0.5555555555555556,\"#d8576b\"],[0.6666666666666666,\"#ed7953\"],[0.7777777777777778,\"#fb9f3a\"],[0.8888888888888888,\"#fdca26\"],[1.0,\"#f0f921\"]],\"diverging\":[[0,\"#8e0152\"],[0.1,\"#c51b7d\"],[0.2,\"#de77ae\"],[0.3,\"#f1b6da\"],[0.4,\"#fde0ef\"],[0.5,\"#f7f7f7\"],[0.6,\"#e6f5d0\"],[0.7,\"#b8e186\"],[0.8,\"#7fbc41\"],[0.9,\"#4d9221\"],[1,\"#276419\"]]},\"xaxis\":{\"gridcolor\":\"white\",\"linecolor\":\"white\",\"ticks\":\"\",\"title\":{\"standoff\":15},\"zerolinecolor\":\"white\",\"automargin\":true,\"zerolinewidth\":2},\"yaxis\":{\"gridcolor\":\"white\",\"linecolor\":\"white\",\"ticks\":\"\",\"title\":{\"standoff\":15},\"zerolinecolor\":\"white\",\"automargin\":true,\"zerolinewidth\":2},\"scene\":{\"xaxis\":{\"backgroundcolor\":\"#E5ECF6\",\"gridcolor\":\"white\",\"linecolor\":\"white\",\"showbackground\":true,\"ticks\":\"\",\"zerolinecolor\":\"white\",\"gridwidth\":2},\"yaxis\":{\"backgroundcolor\":\"#E5ECF6\",\"gridcolor\":\"white\",\"linecolor\":\"white\",\"showbackground\":true,\"ticks\":\"\",\"zerolinecolor\":\"white\",\"gridwidth\":2},\"zaxis\":{\"backgroundcolor\":\"#E5ECF6\",\"gridcolor\":\"white\",\"linecolor\":\"white\",\"showbackground\":true,\"ticks\":\"\",\"zerolinecolor\":\"white\",\"gridwidth\":2}},\"shapedefaults\":{\"line\":{\"color\":\"#2a3f5f\"}},\"annotationdefaults\":{\"arrowcolor\":\"#2a3f5f\",\"arrowhead\":0,\"arrowwidth\":1},\"geo\":{\"bgcolor\":\"white\",\"landcolor\":\"#E5ECF6\",\"subunitcolor\":\"white\",\"showland\":true,\"showlakes\":true,\"lakecolor\":\"white\"},\"title\":{\"x\":0.05},\"mapbox\":{\"style\":\"light\"}}},\"xaxis\":{\"anchor\":\"y\",\"domain\":[0.0,1.0],\"title\":{\"text\":\"x\"}},\"yaxis\":{\"anchor\":\"x\",\"domain\":[0.0,1.0],\"title\":{\"text\":\"index\"}},\"legend\":{\"tracegroupgap\":0},\"margin\":{\"t\":60}},                        {\"responsive\": true}                    ).then(function(){\n",
       "                            \n",
       "var gd = document.getElementById('a50ee2e3-9db3-498c-afd1-faffac5b46ba');\n",
       "var x = new MutationObserver(function (mutations, observer) {{\n",
       "        var display = window.getComputedStyle(gd).display;\n",
       "        if (!display || display === 'none') {{\n",
       "            console.log([gd, 'removed!']);\n",
       "            Plotly.purge(gd);\n",
       "            observer.disconnect();\n",
       "        }}\n",
       "}});\n",
       "\n",
       "// Listen for the removal of the full notebook cells\n",
       "var notebookContainer = gd.closest('#notebook-container');\n",
       "if (notebookContainer) {{\n",
       "    x.observe(notebookContainer, {childList: true});\n",
       "}}\n",
       "\n",
       "// Listen for the clearing of the current output cell\n",
       "var outputEl = gd.closest('.output');\n",
       "if (outputEl) {{\n",
       "    x.observe(outputEl, {childList: true});\n",
       "}}\n",
       "\n",
       "                        })                };                });            </script>        </div>"
      ]
     },
     "metadata": {},
     "output_type": "display_data"
    }
   ],
   "source": [
    "fig=px.scatter(df['Hours'],df['Scores'])\n",
    "fig.show()"
   ]
  },
  {
   "cell_type": "markdown",
   "id": "8b92f3e2",
   "metadata": {
    "papermill": {
     "duration": 0.007454,
     "end_time": "2023-03-04T11:21:41.754894",
     "exception": false,
     "start_time": "2023-03-04T11:21:41.747440",
     "status": "completed"
    },
    "tags": []
   },
   "source": [
    "### Assign x , y"
   ]
  },
  {
   "cell_type": "code",
   "execution_count": 6,
   "id": "bdc873d4",
   "metadata": {
    "execution": {
     "iopub.execute_input": "2023-03-04T11:21:41.772668Z",
     "iopub.status.busy": "2023-03-04T11:21:41.772217Z",
     "iopub.status.idle": "2023-03-04T11:21:41.778477Z",
     "shell.execute_reply": "2023-03-04T11:21:41.777225Z"
    },
    "papermill": {
     "duration": 0.018365,
     "end_time": "2023-03-04T11:21:41.781110",
     "exception": false,
     "start_time": "2023-03-04T11:21:41.762745",
     "status": "completed"
    },
    "tags": []
   },
   "outputs": [],
   "source": [
    "x=df.iloc[:,:-1].values\n",
    "y=df.iloc[:,-1].values"
   ]
  },
  {
   "cell_type": "code",
   "execution_count": 7,
   "id": "6b0d435b",
   "metadata": {
    "execution": {
     "iopub.execute_input": "2023-03-04T11:21:41.799955Z",
     "iopub.status.busy": "2023-03-04T11:21:41.799526Z",
     "iopub.status.idle": "2023-03-04T11:21:41.807373Z",
     "shell.execute_reply": "2023-03-04T11:21:41.806097Z"
    },
    "papermill": {
     "duration": 0.019898,
     "end_time": "2023-03-04T11:21:41.810049",
     "exception": false,
     "start_time": "2023-03-04T11:21:41.790151",
     "status": "completed"
    },
    "tags": []
   },
   "outputs": [
    {
     "data": {
      "text/plain": [
       "array([[2.5],\n",
       "       [5.1],\n",
       "       [3.2],\n",
       "       [8.5],\n",
       "       [3.5],\n",
       "       [1.5],\n",
       "       [9.2],\n",
       "       [5.5],\n",
       "       [8.3],\n",
       "       [2.7],\n",
       "       [7.7],\n",
       "       [5.9],\n",
       "       [4.5],\n",
       "       [3.3],\n",
       "       [1.1],\n",
       "       [8.9],\n",
       "       [2.5],\n",
       "       [1.9],\n",
       "       [6.1],\n",
       "       [7.4],\n",
       "       [2.7],\n",
       "       [4.8],\n",
       "       [3.8],\n",
       "       [6.9],\n",
       "       [7.8]])"
      ]
     },
     "execution_count": 7,
     "metadata": {},
     "output_type": "execute_result"
    }
   ],
   "source": [
    "x"
   ]
  },
  {
   "cell_type": "code",
   "execution_count": 8,
   "id": "377c6f10",
   "metadata": {
    "execution": {
     "iopub.execute_input": "2023-03-04T11:21:41.828944Z",
     "iopub.status.busy": "2023-03-04T11:21:41.828287Z",
     "iopub.status.idle": "2023-03-04T11:21:41.835415Z",
     "shell.execute_reply": "2023-03-04T11:21:41.834446Z"
    },
    "papermill": {
     "duration": 0.019266,
     "end_time": "2023-03-04T11:21:41.837711",
     "exception": false,
     "start_time": "2023-03-04T11:21:41.818445",
     "status": "completed"
    },
    "tags": []
   },
   "outputs": [
    {
     "data": {
      "text/plain": [
       "array([21, 47, 27, 75, 30, 20, 88, 60, 81, 25, 85, 62, 41, 42, 17, 95, 30,\n",
       "       24, 67, 69, 30, 54, 35, 76, 86])"
      ]
     },
     "execution_count": 8,
     "metadata": {},
     "output_type": "execute_result"
    }
   ],
   "source": [
    "y"
   ]
  },
  {
   "cell_type": "markdown",
   "id": "2ee8af24",
   "metadata": {
    "papermill": {
     "duration": 0.007931,
     "end_time": "2023-03-04T11:21:41.853761",
     "exception": false,
     "start_time": "2023-03-04T11:21:41.845830",
     "status": "completed"
    },
    "tags": []
   },
   "source": [
    "### Split data"
   ]
  },
  {
   "cell_type": "code",
   "execution_count": 9,
   "id": "43caad92",
   "metadata": {
    "execution": {
     "iopub.execute_input": "2023-03-04T11:21:41.872663Z",
     "iopub.status.busy": "2023-03-04T11:21:41.871443Z",
     "iopub.status.idle": "2023-03-04T11:21:42.110884Z",
     "shell.execute_reply": "2023-03-04T11:21:42.109200Z"
    },
    "papermill": {
     "duration": 0.252395,
     "end_time": "2023-03-04T11:21:42.114117",
     "exception": false,
     "start_time": "2023-03-04T11:21:41.861722",
     "status": "completed"
    },
    "tags": []
   },
   "outputs": [],
   "source": [
    "from sklearn.model_selection import train_test_split\n",
    "\n",
    "x_train ,x_test ,y_train ,y_test =train_test_split(x,y,test_size=.20)"
   ]
  },
  {
   "cell_type": "code",
   "execution_count": 10,
   "id": "ebe01b3f",
   "metadata": {
    "execution": {
     "iopub.execute_input": "2023-03-04T11:21:42.133032Z",
     "iopub.status.busy": "2023-03-04T11:21:42.131895Z",
     "iopub.status.idle": "2023-03-04T11:21:42.138820Z",
     "shell.execute_reply": "2023-03-04T11:21:42.137887Z"
    },
    "papermill": {
     "duration": 0.01874,
     "end_time": "2023-03-04T11:21:42.141016",
     "exception": false,
     "start_time": "2023-03-04T11:21:42.122276",
     "status": "completed"
    },
    "tags": []
   },
   "outputs": [
    {
     "data": {
      "text/plain": [
       "array([[5.9],\n",
       "       [1.9],\n",
       "       [5.1],\n",
       "       [6.1],\n",
       "       [5.5],\n",
       "       [1.1],\n",
       "       [8.5],\n",
       "       [9.2],\n",
       "       [3.2],\n",
       "       [6.9],\n",
       "       [8.9],\n",
       "       [4.5],\n",
       "       [2.7],\n",
       "       [1.5],\n",
       "       [2.5],\n",
       "       [3.5],\n",
       "       [7.7],\n",
       "       [2.5],\n",
       "       [4.8],\n",
       "       [3.3]])"
      ]
     },
     "execution_count": 10,
     "metadata": {},
     "output_type": "execute_result"
    }
   ],
   "source": [
    "x_train"
   ]
  },
  {
   "cell_type": "code",
   "execution_count": 11,
   "id": "37a716cb",
   "metadata": {
    "execution": {
     "iopub.execute_input": "2023-03-04T11:21:42.159970Z",
     "iopub.status.busy": "2023-03-04T11:21:42.159463Z",
     "iopub.status.idle": "2023-03-04T11:21:42.167725Z",
     "shell.execute_reply": "2023-03-04T11:21:42.166369Z"
    },
    "papermill": {
     "duration": 0.020969,
     "end_time": "2023-03-04T11:21:42.170206",
     "exception": false,
     "start_time": "2023-03-04T11:21:42.149237",
     "status": "completed"
    },
    "tags": []
   },
   "outputs": [
    {
     "data": {
      "text/plain": [
       "array([[8.3],\n",
       "       [7.8],\n",
       "       [2.7],\n",
       "       [7.4],\n",
       "       [3.8]])"
      ]
     },
     "execution_count": 11,
     "metadata": {},
     "output_type": "execute_result"
    }
   ],
   "source": [
    "x_test"
   ]
  },
  {
   "cell_type": "markdown",
   "id": "5e8754f9",
   "metadata": {
    "papermill": {
     "duration": 0.008004,
     "end_time": "2023-03-04T11:21:42.187034",
     "exception": false,
     "start_time": "2023-03-04T11:21:42.179030",
     "status": "completed"
    },
    "tags": []
   },
   "source": [
    "### Build model"
   ]
  },
  {
   "cell_type": "code",
   "execution_count": 12,
   "id": "476566d2",
   "metadata": {
    "execution": {
     "iopub.execute_input": "2023-03-04T11:21:42.206129Z",
     "iopub.status.busy": "2023-03-04T11:21:42.205393Z",
     "iopub.status.idle": "2023-03-04T11:21:42.308927Z",
     "shell.execute_reply": "2023-03-04T11:21:42.307609Z"
    },
    "papermill": {
     "duration": 0.116605,
     "end_time": "2023-03-04T11:21:42.311998",
     "exception": false,
     "start_time": "2023-03-04T11:21:42.195393",
     "status": "completed"
    },
    "tags": []
   },
   "outputs": [],
   "source": [
    "from sklearn.linear_model import LinearRegression"
   ]
  },
  {
   "cell_type": "code",
   "execution_count": 13,
   "id": "82e39f42",
   "metadata": {
    "execution": {
     "iopub.execute_input": "2023-03-04T11:21:42.331487Z",
     "iopub.status.busy": "2023-03-04T11:21:42.330276Z",
     "iopub.status.idle": "2023-03-04T11:21:42.359707Z",
     "shell.execute_reply": "2023-03-04T11:21:42.358299Z"
    },
    "papermill": {
     "duration": 0.041959,
     "end_time": "2023-03-04T11:21:42.362322",
     "exception": false,
     "start_time": "2023-03-04T11:21:42.320363",
     "status": "completed"
    },
    "tags": []
   },
   "outputs": [
    {
     "data": {
      "text/plain": [
       "LinearRegression()"
      ]
     },
     "execution_count": 13,
     "metadata": {},
     "output_type": "execute_result"
    }
   ],
   "source": [
    "model = LinearRegression()\n",
    "model.fit(x_train,y_train)"
   ]
  },
  {
   "cell_type": "code",
   "execution_count": 14,
   "id": "129a9668",
   "metadata": {
    "execution": {
     "iopub.execute_input": "2023-03-04T11:21:42.384088Z",
     "iopub.status.busy": "2023-03-04T11:21:42.383471Z",
     "iopub.status.idle": "2023-03-04T11:21:42.391438Z",
     "shell.execute_reply": "2023-03-04T11:21:42.390327Z"
    },
    "papermill": {
     "duration": 0.020844,
     "end_time": "2023-03-04T11:21:42.393866",
     "exception": false,
     "start_time": "2023-03-04T11:21:42.373022",
     "status": "completed"
    },
    "tags": []
   },
   "outputs": [
    {
     "data": {
      "text/plain": [
       "array([81, 86, 30, 69, 35])"
      ]
     },
     "execution_count": 14,
     "metadata": {},
     "output_type": "execute_result"
    }
   ],
   "source": [
    "y_test"
   ]
  },
  {
   "cell_type": "code",
   "execution_count": 15,
   "id": "81a99fc0",
   "metadata": {
    "execution": {
     "iopub.execute_input": "2023-03-04T11:21:42.414024Z",
     "iopub.status.busy": "2023-03-04T11:21:42.412756Z",
     "iopub.status.idle": "2023-03-04T11:21:42.421771Z",
     "shell.execute_reply": "2023-03-04T11:21:42.420527Z"
    },
    "papermill": {
     "duration": 0.022003,
     "end_time": "2023-03-04T11:21:42.424456",
     "exception": false,
     "start_time": "2023-03-04T11:21:42.402453",
     "status": "completed"
    },
    "tags": []
   },
   "outputs": [
    {
     "data": {
      "text/plain": [
       "array([83.8696704 , 78.98004233, 29.10583611, 75.06833989, 39.86301784])"
      ]
     },
     "execution_count": 15,
     "metadata": {},
     "output_type": "execute_result"
    }
   ],
   "source": [
    "y_predect=model.predict(x_test)\n",
    "y_predect"
   ]
  },
  {
   "cell_type": "markdown",
   "id": "19f386d3",
   "metadata": {
    "papermill": {
     "duration": 0.008542,
     "end_time": "2023-03-04T11:21:42.441961",
     "exception": false,
     "start_time": "2023-03-04T11:21:42.433419",
     "status": "completed"
    },
    "tags": []
   },
   "source": [
    "### Visualize"
   ]
  },
  {
   "cell_type": "code",
   "execution_count": 16,
   "id": "d3744ca7",
   "metadata": {
    "execution": {
     "iopub.execute_input": "2023-03-04T11:21:42.461962Z",
     "iopub.status.busy": "2023-03-04T11:21:42.460956Z",
     "iopub.status.idle": "2023-03-04T11:21:42.750888Z",
     "shell.execute_reply": "2023-03-04T11:21:42.749535Z"
    },
    "papermill": {
     "duration": 0.303081,
     "end_time": "2023-03-04T11:21:42.753759",
     "exception": false,
     "start_time": "2023-03-04T11:21:42.450678",
     "status": "completed"
    },
    "tags": []
   },
   "outputs": [
    {
     "data": {
      "text/plain": [
       "<matplotlib.collections.PathCollection at 0x7f1b3db4ce50>"
      ]
     },
     "execution_count": 16,
     "metadata": {},
     "output_type": "execute_result"
    },
    {
     "data": {
      "image/png": "[encoded data removed]",
      "text/plain": [
       "<Figure size 640x480 with 1 Axes>"
      ]
     },
     "metadata": {},
     "output_type": "display_data"
    }
   ],
   "source": [
    "plt.scatter(x_train , y_train)\n"
   ]
  },
  {
   "cell_type": "code",
   "execution_count": 17,
   "id": "9d1ec6f4",
   "metadata": {
    "execution": {
     "iopub.execute_input": "2023-03-04T11:21:42.774000Z",
     "iopub.status.busy": "2023-03-04T11:21:42.773523Z",
     "iopub.status.idle": "2023-03-04T11:21:43.060880Z",
     "shell.execute_reply": "2023-03-04T11:21:43.059674Z"
    },
    "papermill": {
     "duration": 0.300576,
     "end_time": "2023-03-04T11:21:43.063561",
     "exception": false,
     "start_time": "2023-03-04T11:21:42.762985",
     "status": "completed"
    },
    "tags": []
   },
   "outputs": [
    {
     "data": {
      "text/plain": [
       "[<matplotlib.lines.Line2D at 0x7f1b3417b450>]"
      ]
     },
     "execution_count": 17,
     "metadata": {},
     "output_type": "execute_result"
    },
    {
     "data": {
      "image/png": "[encoded data removed]",
      "text/plain": [
       "<Figure size 640x480 with 1 Axes>"
      ]
     },
     "metadata": {},
     "output_type": "display_data"
    }
   ],
   "source": [
    "plt.scatter(x_train,y_train)\n",
    "plt.plot(x_train,model.predict(x_train),color='red')"
   ]
  },
  {
   "cell_type": "code",
   "execution_count": 18,
   "id": "6f185aaa",
   "metadata": {
    "execution": {
     "iopub.execute_input": "2023-03-04T11:21:43.084783Z",
     "iopub.status.busy": "2023-03-04T11:21:43.084327Z",
     "iopub.status.idle": "2023-03-04T11:21:43.284153Z",
     "shell.execute_reply": "2023-03-04T11:21:43.282686Z"
    },
    "papermill": {
     "duration": 0.213802,
     "end_time": "2023-03-04T11:21:43.287032",
     "exception": false,
     "start_time": "2023-03-04T11:21:43.073230",
     "status": "completed"
    },
    "tags": []
   },
   "outputs": [
    {
     "data": {
      "text/plain": [
       "[<matplotlib.lines.Line2D at 0x7f1b34110e90>]"
      ]
     },
     "execution_count": 18,
     "metadata": {},
     "output_type": "execute_result"
    },
    {
     "data": {
      "image/png": "[encoded data removed]",
      "text/plain": [
       "<Figure size 640x480 with 1 Axes>"
      ]
     },
     "metadata": {},
     "output_type": "display_data"
    }
   ],
   "source": [
    "plt.scatter(x_test,y_test)\n",
    "plt.plot(x_train,model.predict(x_train),color='red')"
   ]
  },
  {
   "cell_type": "code",
   "execution_count": 19,
   "id": "985106b3",
   "metadata": {
    "execution": {
     "iopub.execute_input": "2023-03-04T11:21:43.310667Z",
     "iopub.status.busy": "2023-03-04T11:21:43.309445Z",
     "iopub.status.idle": "2023-03-04T11:21:43.316750Z",
     "shell.execute_reply": "2023-03-04T11:21:43.315742Z"
    },
    "papermill": {
     "duration": 0.022098,
     "end_time": "2023-03-04T11:21:43.319258",
     "exception": false,
     "start_time": "2023-03-04T11:21:43.297160",
     "status": "completed"
    },
    "tags": []
   },
   "outputs": [
    {
     "data": {
      "text/plain": [
       "array([9.77925612])"
      ]
     },
     "execution_count": 19,
     "metadata": {},
     "output_type": "execute_result"
    }
   ],
   "source": [
    "model.coef_"
   ]
  },
  {
   "cell_type": "code",
   "execution_count": 20,
   "id": "197f91ed",
   "metadata": {
    "execution": {
     "iopub.execute_input": "2023-03-04T11:21:43.342866Z",
     "iopub.status.busy": "2023-03-04T11:21:43.341827Z",
     "iopub.status.idle": "2023-03-04T11:21:43.349205Z",
     "shell.execute_reply": "2023-03-04T11:21:43.348069Z"
    },
    "papermill": {
     "duration": 0.021693,
     "end_time": "2023-03-04T11:21:43.351776",
     "exception": false,
     "start_time": "2023-03-04T11:21:43.330083",
     "status": "completed"
    },
    "tags": []
   },
   "outputs": [
    {
     "data": {
      "text/plain": [
       "2.701844572119761"
      ]
     },
     "execution_count": 20,
     "metadata": {},
     "output_type": "execute_result"
    }
   ],
   "source": [
    "model.intercept_"
   ]
  },
  {
   "cell_type": "code",
   "execution_count": 21,
   "id": "23204a7e",
   "metadata": {
    "execution": {
     "iopub.execute_input": "2023-03-04T11:21:43.374743Z",
     "iopub.status.busy": "2023-03-04T11:21:43.374258Z",
     "iopub.status.idle": "2023-03-04T11:21:43.386623Z",
     "shell.execute_reply": "2023-03-04T11:21:43.385293Z"
    },
    "papermill": {
     "duration": 0.026575,
     "end_time": "2023-03-04T11:21:43.388955",
     "exception": false,
     "start_time": "2023-03-04T11:21:43.362380",
     "status": "completed"
    },
    "tags": []
   },
   "outputs": [
    {
     "data": {
      "text/html": [
       "<div>\n",
       "<style scoped>\n",
       "    .dataframe tbody tr th:only-of-type {\n",
       "        vertical-align: middle;\n",
       "    }\n",
       "\n",
       "    .dataframe tbody tr th {\n",
       "        vertical-align: top;\n",
       "    }\n",
       "\n",
       "    .dataframe thead th {\n",
       "        text-align: right;\n",
       "    }\n",
       "</style>\n",
       "<table border=\"1\" class=\"dataframe\">\n",
       "  <thead>\n",
       "    <tr style=\"text-align: right;\">\n",
       "      <th></th>\n",
       "      <th>Actuall</th>\n",
       "      <th>predected</th>\n",
       "    </tr>\n",
       "  </thead>\n",
       "  <tbody>\n",
       "    <tr>\n",
       "      <th>0</th>\n",
       "      <td>81</td>\n",
       "      <td>83.869670</td>\n",
       "    </tr>\n",
       "    <tr>\n",
       "      <th>1</th>\n",
       "      <td>86</td>\n",
       "      <td>78.980042</td>\n",
       "    </tr>\n",
       "    <tr>\n",
       "      <th>2</th>\n",
       "      <td>30</td>\n",
       "      <td>29.105836</td>\n",
       "    </tr>\n",
       "    <tr>\n",
       "      <th>3</th>\n",
       "      <td>69</td>\n",
       "      <td>75.068340</td>\n",
       "    </tr>\n",
       "    <tr>\n",
       "      <th>4</th>\n",
       "      <td>35</td>\n",
       "      <td>39.863018</td>\n",
       "    </tr>\n",
       "  </tbody>\n",
       "</table>\n",
       "</div>"
      ],
      "text/plain": [
       "   Actuall  predected\n",
       "0       81  83.869670\n",
       "1       86  78.980042\n",
       "2       30  29.105836\n",
       "3       69  75.068340\n",
       "4       35  39.863018"
      ]
     },
     "execution_count": 21,
     "metadata": {},
     "output_type": "execute_result"
    }
   ],
   "source": [
    "df2=pd.DataFrame({'Actuall':y_test.flatten(),'predected':y_predect.flatten()})\n",
    "df2\n"
   ]
  },
  {
   "cell_type": "code",
   "execution_count": 22,
   "id": "fcd8d7c4",
   "metadata": {
    "execution": {
     "iopub.execute_input": "2023-03-04T11:21:43.414355Z",
     "iopub.status.busy": "2023-03-04T11:21:43.413648Z",
     "iopub.status.idle": "2023-03-04T11:21:43.604676Z",
     "shell.execute_reply": "2023-03-04T11:21:43.603687Z"
    },
    "papermill": {
     "duration": 0.207102,
     "end_time": "2023-03-04T11:21:43.607343",
     "exception": false,
     "start_time": "2023-03-04T11:21:43.400241",
     "status": "completed"
    },
    "tags": []
   },
   "outputs": [
    {
     "data": {
      "text/plain": [
       "<AxesSubplot:>"
      ]
     },
     "execution_count": 22,
     "metadata": {},
     "output_type": "execute_result"
    },
    {
     "data": {
      "image/png": "[encoded data removed]",
      "text/plain": [
       "<Figure size 640x480 with 1 Axes>"
      ]
     },
     "metadata": {},
     "output_type": "display_data"
    }
   ],
   "source": [
    "df2.plot(kind='bar')"
   ]
  },
  {
   "cell_type": "markdown",
   "id": "db825ba6",
   "metadata": {
    "papermill": {
     "duration": 0.01119,
     "end_time": "2023-03-04T11:21:43.630205",
     "exception": false,
     "start_time": "2023-03-04T11:21:43.619015",
     "status": "completed"
    },
    "tags": []
   },
   "source": [
    "___________________________________________________________________________________________________"
   ]
  },
  {
   "cell_type": "markdown",
   "id": "d6ce7f26",
   "metadata": {
    "papermill": {
     "duration": 0.010914,
     "end_time": "2023-03-04T11:21:43.652631",
     "exception": false,
     "start_time": "2023-03-04T11:21:43.641717",
     "status": "completed"
    },
    "tags": []
   },
   "source": [
    "### Build model with statsmodel"
   ]
  },
  {
   "cell_type": "code",
   "execution_count": 23,
   "id": "3180c0b2",
   "metadata": {
    "execution": {
     "iopub.execute_input": "2023-03-04T11:21:43.677047Z",
     "iopub.status.busy": "2023-03-04T11:21:43.676636Z",
     "iopub.status.idle": "2023-03-04T11:21:45.198725Z",
     "shell.execute_reply": "2023-03-04T11:21:45.197110Z"
    },
    "papermill": {
     "duration": 1.538541,
     "end_time": "2023-03-04T11:21:45.202080",
     "exception": false,
     "start_time": "2023-03-04T11:21:43.663539",
     "status": "completed"
    },
    "tags": []
   },
   "outputs": [],
   "source": [
    "import statsmodels.api as sm"
   ]
  },
  {
   "cell_type": "code",
   "execution_count": 24,
   "id": "16674661",
   "metadata": {
    "execution": {
     "iopub.execute_input": "2023-03-04T11:21:45.227017Z",
     "iopub.status.busy": "2023-03-04T11:21:45.226229Z",
     "iopub.status.idle": "2023-03-04T11:21:45.234700Z",
     "shell.execute_reply": "2023-03-04T11:21:45.233441Z"
    },
    "papermill": {
     "duration": 0.024482,
     "end_time": "2023-03-04T11:21:45.237546",
     "exception": false,
     "start_time": "2023-03-04T11:21:45.213064",
     "status": "completed"
    },
    "tags": []
   },
   "outputs": [],
   "source": [
    "X_stat=sm.add_constant(x_train)\n",
    "model2=sm.OLS(y_train,X_stat).fit()"
   ]
  },
  {
   "cell_type": "code",
   "execution_count": 25,
   "id": "3d23a124",
   "metadata": {
    "execution": {
     "iopub.execute_input": "2023-03-04T11:21:45.261388Z",
     "iopub.status.busy": "2023-03-04T11:21:45.260664Z",
     "iopub.status.idle": "2023-03-04T11:21:45.279088Z",
     "shell.execute_reply": "2023-03-04T11:21:45.277666Z"
    },
    "papermill": {
     "duration": 0.033952,
     "end_time": "2023-03-04T11:21:45.282208",
     "exception": false,
     "start_time": "2023-03-04T11:21:45.248256",
     "status": "completed"
    },
    "tags": []
   },
   "outputs": [
    {
     "data": {
      "text/html": [
       "<table class=\"simpletable\">\n",
       "<caption>OLS Regression Results</caption>\n",
       "<tr>\n",
       "  <th>Dep. Variable:</th>            <td>y</td>        <th>  R-squared:         </th> <td>   0.950</td>\n",
       "</tr>\n",
       "<tr>\n",
       "  <th>Model:</th>                   <td>OLS</td>       <th>  Adj. R-squared:    </th> <td>   0.947</td>\n",
       "</tr>\n",
       "<tr>\n",
       "  <th>Method:</th>             <td>Least Squares</td>  <th>  F-statistic:       </th> <td>   343.6</td>\n",
       "</tr>\n",
       "<tr>\n",
       "  <th>Date:</th>             <td>Sat, 04 Mar 2023</td> <th>  Prob (F-statistic):</th> <td>3.56e-13</td>\n",
       "</tr>\n",
       "<tr>\n",
       "  <th>Time:</th>                 <td>11:21:45</td>     <th>  Log-Likelihood:    </th> <td> -62.468</td>\n",
       "</tr>\n",
       "<tr>\n",
       "  <th>No. Observations:</th>      <td>    20</td>      <th>  AIC:               </th> <td>   128.9</td>\n",
       "</tr>\n",
       "<tr>\n",
       "  <th>Df Residuals:</th>          <td>    18</td>      <th>  BIC:               </th> <td>   130.9</td>\n",
       "</tr>\n",
       "<tr>\n",
       "  <th>Df Model:</th>              <td>     1</td>      <th>                     </th>     <td> </td>   \n",
       "</tr>\n",
       "<tr>\n",
       "  <th>Covariance Type:</th>      <td>nonrobust</td>    <th>                     </th>     <td> </td>   \n",
       "</tr>\n",
       "</table>\n",
       "<table class=\"simpletable\">\n",
       "<tr>\n",
       "    <td></td>       <th>coef</th>     <th>std err</th>      <th>t</th>      <th>P>|t|</th>  <th>[0.025</th>    <th>0.975]</th>  \n",
       "</tr>\n",
       "<tr>\n",
       "  <th>const</th> <td>    2.7018</td> <td>    2.828</td> <td>    0.955</td> <td> 0.352</td> <td>   -3.240</td> <td>    8.644</td>\n",
       "</tr>\n",
       "<tr>\n",
       "  <th>x1</th>    <td>    9.7793</td> <td>    0.528</td> <td>   18.537</td> <td> 0.000</td> <td>    8.671</td> <td>   10.888</td>\n",
       "</tr>\n",
       "</table>\n",
       "<table class=\"simpletable\">\n",
       "<tr>\n",
       "  <th>Omnibus:</th>       <td> 5.184</td> <th>  Durbin-Watson:     </th> <td>   2.213</td>\n",
       "</tr>\n",
       "<tr>\n",
       "  <th>Prob(Omnibus):</th> <td> 0.075</td> <th>  Jarque-Bera (JB):  </th> <td>   1.992</td>\n",
       "</tr>\n",
       "<tr>\n",
       "  <th>Skew:</th>          <td>-0.402</td> <th>  Prob(JB):          </th> <td>   0.369</td>\n",
       "</tr>\n",
       "<tr>\n",
       "  <th>Kurtosis:</th>      <td> 1.680</td> <th>  Cond. No.          </th> <td>    12.0</td>\n",
       "</tr>\n",
       "</table><br/><br/>Notes:<br/>[1] Standard Errors assume that the covariance matrix of the errors is correctly specified."
      ],
      "text/plain": [
       "<class 'statsmodels.iolib.summary.Summary'>\n",
       "\"\"\"\n",
       "                            OLS Regression Results                            \n",
       "==============================================================================\n",
       "Dep. Variable:                      y   R-squared:                       0.950\n",
       "Model:                            OLS   Adj. R-squared:                  0.947\n",
       "Method:                 Least Squares   F-statistic:                     343.6\n",
       "Date:                Sat, 04 Mar 2023   Prob (F-statistic):           3.56e-13\n",
       "Time:                        11:21:45   Log-Likelihood:                -62.468\n",
       "No. Observations:                  20   AIC:                             128.9\n",
       "Df Residuals:                      18   BIC:                             130.9\n",
       "Df Model:                           1                                         \n",
       "Covariance Type:            nonrobust                                         \n",
       "==============================================================================\n",
       "                 coef    std err          t      P>|t|      [0.025      0.975]\n",
       "------------------------------------------------------------------------------\n",
       "const          2.7018      2.828      0.955      0.352      -3.240       8.644\n",
       "x1             9.7793      0.528     18.537      0.000       8.671      10.888\n",
       "==============================================================================\n",
       "Omnibus:                        5.184   Durbin-Watson:                   2.213\n",
       "Prob(Omnibus):                  0.075   Jarque-Bera (JB):                1.992\n",
       "Skew:                          -0.402   Prob(JB):                        0.369\n",
       "Kurtosis:                       1.680   Cond. No.                         12.0\n",
       "==============================================================================\n",
       "\n",
       "Notes:\n",
       "[1] Standard Errors assume that the covariance matrix of the errors is correctly specified.\n",
       "\"\"\""
      ]
     },
     "execution_count": 25,
     "metadata": {},
     "output_type": "execute_result"
    }
   ],
   "source": [
    "model2.summary()"
   ]
  }
 ],
 "metadata": {
  "kernelspec": {
   "display_name": "Python 3",
   "language": "python",
   "name": "python3"
  },
  "language_info": {
   "codemirror_mode": {
    "name": "ipython",
    "version": 3
   },
   "file_extension": ".py",
   "mimetype": "text/x-python",
   "name": "python",
   "nbconvert_exporter": "python",
   "pygments_lexer": "ipython3",
   "version": "3.7.12"
  },
  "papermill": {
   "default_parameters": {},
   "duration": 21.955698,
   "end_time": "2023-03-04T11:21:46.317524",
   "environment_variables": {},
   "exception": null,
   "input_path": "__notebook__.ipynb",
   "output_path": "__notebook__.ipynb",
   "parameters": {},
   "start_time": "2023-03-04T11:21:24.361826",
   "version": "2.4.0"
  }
 },
 "nbformat": 4,
 "nbformat_minor": 5
}
